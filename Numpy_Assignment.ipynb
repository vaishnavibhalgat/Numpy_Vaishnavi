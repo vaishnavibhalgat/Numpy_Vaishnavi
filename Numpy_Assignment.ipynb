{
  "nbformat": 4,
  "nbformat_minor": 0,
  "metadata": {
    "colab": {
      "provenance": []
    },
    "kernelspec": {
      "name": "python3",
      "display_name": "Python 3"
    },
    "language_info": {
      "name": "python"
    }
  },
  "cells": [
    {
      "cell_type": "markdown",
      "source": [
        "## Question 1\n",
        "Create a 3x3 NumPy array with random integers between 1 and 100. Then, interchange its rows and columns."
      ],
      "metadata": {
        "id": "QUZjTL3-sKmx"
      }
    },
    {
      "cell_type": "code",
      "source": [
        "import numpy as np\n",
        "\n",
        "# Step 1: Create a 3x3 array with random integers between 1 and 100\n",
        "array = np.random.randint(1, 101, size=(3, 3))\n",
        "print(\"Original 3x3 Array:\")\n",
        "print(array)\n",
        "\n",
        "# Step 2: Interchange rows and columns (transpose the matrix)\n",
        "transposed_array = array.T\n",
        "print(\"\\nTransposed 3x3 Array:\")\n",
        "print(transposed_array)\n"
      ],
      "metadata": {
        "colab": {
          "base_uri": "https://localhost:8080/"
        },
        "id": "sTfn1C4ysNX5",
        "outputId": "abc630bd-8b6e-430b-899f-4596a89bb3f0"
      },
      "execution_count": 1,
      "outputs": [
        {
          "output_type": "stream",
          "name": "stdout",
          "text": [
            "Original 3x3 Array:\n",
            "[[28 94 46]\n",
            " [45 16 47]\n",
            " [51 26 95]]\n",
            "\n",
            "Transposed 3x3 Array:\n",
            "[[28 45 51]\n",
            " [94 16 26]\n",
            " [46 47 95]]\n"
          ]
        }
      ]
    },
    {
      "cell_type": "markdown",
      "source": [
        "## Question 2\n",
        "Generate a 1D NumPy array with 10 elements. Reshape it into a 2x5 array, then into a 5x2 array.\n"
      ],
      "metadata": {
        "id": "kuxXeotZsXpp"
      }
    },
    {
      "cell_type": "code",
      "source": [
        "import numpy as np\n",
        "\n",
        "# Step 1: Generate a 1D NumPy array with 10 elements\n",
        "array_1d = np.arange(1, 11)  # Array with elements from 1 to 10\n",
        "print(\"1D Array with 10 Elements:\")\n",
        "print(array_1d)\n",
        "\n",
        "# Step 2: Reshape into a 2x5 array\n",
        "array_2x5 = array_1d.reshape(2, 5)\n",
        "print(\"\\nReshaped into 2x5 Array:\")\n",
        "print(array_2x5)\n",
        "\n",
        "# Step 3: Reshape into a 5x2 array\n",
        "array_5x2 = array_1d.reshape(5, 2)\n",
        "print(\"\\nReshaped into 5x2 Array:\")\n",
        "print(array_5x2)\n"
      ],
      "metadata": {
        "colab": {
          "base_uri": "https://localhost:8080/"
        },
        "id": "NLzvXhN0sjoI",
        "outputId": "1f9189ef-9e50-494c-f585-62510deded12"
      },
      "execution_count": 2,
      "outputs": [
        {
          "output_type": "stream",
          "name": "stdout",
          "text": [
            "1D Array with 10 Elements:\n",
            "[ 1  2  3  4  5  6  7  8  9 10]\n",
            "\n",
            "Reshaped into 2x5 Array:\n",
            "[[ 1  2  3  4  5]\n",
            " [ 6  7  8  9 10]]\n",
            "\n",
            "Reshaped into 5x2 Array:\n",
            "[[ 1  2]\n",
            " [ 3  4]\n",
            " [ 5  6]\n",
            " [ 7  8]\n",
            " [ 9 10]]\n"
          ]
        }
      ]
    },
    {
      "cell_type": "markdown",
      "source": [
        "## Question 3\n",
        "Create a 4x4 NumPy array with random float values. Add a border of zeros around it, resulting in a 6x6 array.\n"
      ],
      "metadata": {
        "id": "zx1N4yiOsujh"
      }
    },
    {
      "cell_type": "code",
      "source": [
        "import numpy as np\n",
        "\n",
        "# Step 1: Create a 4x4 NumPy array with random float values\n",
        "array_4x4 = np.random.rand(4, 4)\n",
        "print(\"Original 4x4 Array:\")\n",
        "print(array_4x4)\n",
        "\n",
        "# Step 2: Add a border of zeros, resulting in a 6x6 array\n",
        "array_6x6 = np.pad(array_4x4, pad_width=1, mode='constant', constant_values=0)\n",
        "print(\"\\n6x6 Array with Zero Border:\")\n",
        "print(array_6x6)\n"
      ],
      "metadata": {
        "colab": {
          "base_uri": "https://localhost:8080/"
        },
        "id": "43Th419zs1hh",
        "outputId": "1868afd3-4a93-420d-c69a-0bffe0f17c19"
      },
      "execution_count": 3,
      "outputs": [
        {
          "output_type": "stream",
          "name": "stdout",
          "text": [
            "Original 4x4 Array:\n",
            "[[0.34004835 0.04326545 0.69211847 0.94464491]\n",
            " [0.07624145 0.0584011  0.21501156 0.56442088]\n",
            " [0.70199158 0.66331791 0.05573926 0.43856183]\n",
            " [0.70362775 0.21991265 0.04333542 0.99877628]]\n",
            "\n",
            "6x6 Array with Zero Border:\n",
            "[[0.         0.         0.         0.         0.         0.        ]\n",
            " [0.         0.34004835 0.04326545 0.69211847 0.94464491 0.        ]\n",
            " [0.         0.07624145 0.0584011  0.21501156 0.56442088 0.        ]\n",
            " [0.         0.70199158 0.66331791 0.05573926 0.43856183 0.        ]\n",
            " [0.         0.70362775 0.21991265 0.04333542 0.99877628 0.        ]\n",
            " [0.         0.         0.         0.         0.         0.        ]]\n"
          ]
        }
      ]
    },
    {
      "cell_type": "markdown",
      "source": [
        "## Question 4\n",
        "Using NumPy, create an array of integers from 10 to 60 with a step of 5.\n"
      ],
      "metadata": {
        "id": "hlYuZ2COtD3Z"
      }
    },
    {
      "cell_type": "code",
      "source": [
        "import numpy as np\n",
        "\n",
        "# Create an array of integers from 10 to 60 with a step of 5\n",
        "array = np.arange(10, 61, 5)\n",
        "print(\"Array of Integers from 10 to 60 with Step 5:\")\n",
        "print(array)\n"
      ],
      "metadata": {
        "colab": {
          "base_uri": "https://localhost:8080/"
        },
        "id": "J6v_PraAtKZ5",
        "outputId": "f3d3fade-f3cc-4d46-8b8d-a16848dbdc23"
      },
      "execution_count": 4,
      "outputs": [
        {
          "output_type": "stream",
          "name": "stdout",
          "text": [
            "Array of Integers from 10 to 60 with Step 5:\n",
            "[10 15 20 25 30 35 40 45 50 55 60]\n"
          ]
        }
      ]
    },
    {
      "cell_type": "markdown",
      "source": [
        "## Question 5\n",
        "Create a NumPy array of strings ['python', 'numpy', 'pandas']. Apply different case transformations (uppercase, lowercase, title case, etc.) to each element.\n"
      ],
      "metadata": {
        "id": "kKsZtjqntQS5"
      }
    },
    {
      "cell_type": "code",
      "source": [
        "import numpy as np\n",
        "\n",
        "# Step 1: Create a NumPy array of strings\n",
        "string_array = np.array(['python', 'numpy', 'pandas'])\n",
        "print(\"Original Array of Strings:\")\n",
        "print(string_array)\n",
        "\n",
        "# Step 2: Apply uppercase transformation\n",
        "uppercase_array = np.char.upper(string_array)\n",
        "print(\"\\nUppercase Transformation:\")\n",
        "print(uppercase_array)\n",
        "\n",
        "# Step 3: Apply lowercase transformation\n",
        "lowercase_array = np.char.lower(string_array)\n",
        "print(\"\\nLowercase Transformation:\")\n",
        "print(lowercase_array)\n",
        "\n",
        "# Step 4: Apply title case transformation\n",
        "titlecase_array = np.char.title(string_array)\n",
        "print(\"\\nTitle Case Transformation:\")\n",
        "print(titlecase_array)\n"
      ],
      "metadata": {
        "colab": {
          "base_uri": "https://localhost:8080/"
        },
        "id": "5-0Uf_h3tWVI",
        "outputId": "817dae2c-7564-4718-8e81-83486d0fcd2f"
      },
      "execution_count": 5,
      "outputs": [
        {
          "output_type": "stream",
          "name": "stdout",
          "text": [
            "Original Array of Strings:\n",
            "['python' 'numpy' 'pandas']\n",
            "\n",
            "Uppercase Transformation:\n",
            "['PYTHON' 'NUMPY' 'PANDAS']\n",
            "\n",
            "Lowercase Transformation:\n",
            "['python' 'numpy' 'pandas']\n",
            "\n",
            "Title Case Transformation:\n",
            "['Python' 'Numpy' 'Pandas']\n"
          ]
        }
      ]
    },
    {
      "cell_type": "markdown",
      "source": [
        "## Question 6\n",
        "Generate a NumPy array of words. Insert a space between each character of every word in the array.\n"
      ],
      "metadata": {
        "id": "fRxW_LsetawQ"
      }
    },
    {
      "cell_type": "code",
      "source": [
        "import numpy as np\n",
        "\n",
        "# Step 1: Generate a NumPy array of words\n",
        "words_array = np.array(['python', 'numpy', 'pandas'])\n",
        "print(\"Original Array of Words:\")\n",
        "print(words_array)\n",
        "\n",
        "# Step 2: Insert a space between each character of every word\n",
        "spaced_words_array = np.char.join(' ', words_array)\n",
        "print(\"\\nArray with Spaces Between Each Character:\")\n",
        "print(spaced_words_array)\n"
      ],
      "metadata": {
        "colab": {
          "base_uri": "https://localhost:8080/"
        },
        "id": "56v6Sa4vtgNB",
        "outputId": "c18bab7e-65cb-4048-98dc-93db826911bd"
      },
      "execution_count": 6,
      "outputs": [
        {
          "output_type": "stream",
          "name": "stdout",
          "text": [
            "Original Array of Words:\n",
            "['python' 'numpy' 'pandas']\n",
            "\n",
            "Array with Spaces Between Each Character:\n",
            "['p y t h o n' 'n u m p y' 'p a n d a s']\n"
          ]
        }
      ]
    },
    {
      "cell_type": "markdown",
      "source": [
        "## Question 7\n",
        "Create two 2D NumPy arrays and perform element-wise addition, subtraction, multiplication, and division.\n"
      ],
      "metadata": {
        "id": "25C8t6v8tpU5"
      }
    },
    {
      "cell_type": "code",
      "source": [
        "import numpy as np\n",
        "\n",
        "# Step 1: Create two 2D NumPy arrays\n",
        "array1 = np.array([[1, 2, 3], [4, 5, 6]])\n",
        "array2 = np.array([[6, 5, 4], [3, 2, 1]])\n",
        "\n",
        "print(\"Array 1:\")\n",
        "print(array1)\n",
        "print(\"\\nArray 2:\")\n",
        "print(array2)\n",
        "\n",
        "# Step 2: Perform element-wise addition\n",
        "addition_result = np.add(array1, array2)\n",
        "print(\"\\nElement-wise Addition:\")\n",
        "print(addition_result)\n",
        "\n",
        "# Step 3: Perform element-wise subtraction\n",
        "subtraction_result = np.subtract(array1, array2)\n",
        "print(\"\\nElement-wise Subtraction:\")\n",
        "print(subtraction_result)\n",
        "\n",
        "# Step 4: Perform element-wise multiplication\n",
        "multiplication_result = np.multiply(array1, array2)\n",
        "print(\"\\nElement-wise Multiplication:\")\n",
        "print(multiplication_result)\n",
        "\n",
        "# Step 5: Perform element-wise division\n",
        "division_result = np.divide(array1, array2)\n",
        "print(\"\\nElement-wise Division:\")\n",
        "print(division_result)\n"
      ],
      "metadata": {
        "colab": {
          "base_uri": "https://localhost:8080/"
        },
        "id": "ENwux0bTtqEh",
        "outputId": "2daae99e-703d-4116-8a34-d0804033e1e3"
      },
      "execution_count": 7,
      "outputs": [
        {
          "output_type": "stream",
          "name": "stdout",
          "text": [
            "Array 1:\n",
            "[[1 2 3]\n",
            " [4 5 6]]\n",
            "\n",
            "Array 2:\n",
            "[[6 5 4]\n",
            " [3 2 1]]\n",
            "\n",
            "Element-wise Addition:\n",
            "[[7 7 7]\n",
            " [7 7 7]]\n",
            "\n",
            "Element-wise Subtraction:\n",
            "[[-5 -3 -1]\n",
            " [ 1  3  5]]\n",
            "\n",
            "Element-wise Multiplication:\n",
            "[[ 6 10 12]\n",
            " [12 10  6]]\n",
            "\n",
            "Element-wise Division:\n",
            "[[0.16666667 0.4        0.75      ]\n",
            " [1.33333333 2.5        6.        ]]\n"
          ]
        }
      ]
    },
    {
      "cell_type": "markdown",
      "source": [
        "## Question 8\n",
        "Use NumPy to create a 5x5 identity matrix, then extract its diagonal elements.\n"
      ],
      "metadata": {
        "id": "aGfRYBK_ts3h"
      }
    },
    {
      "cell_type": "code",
      "source": [
        "import numpy as np\n",
        "\n",
        "# Step 1: Create a 5x5 identity matrix\n",
        "identity_matrix = np.eye(5)\n",
        "print(\"5x5 Identity Matrix:\")\n",
        "print(identity_matrix)\n",
        "\n",
        "# Step 2: Extract the diagonal elements\n",
        "diagonal_elements = np.diagonal(identity_matrix)\n",
        "print(\"\\nDiagonal Elements of the Identity Matrix:\")\n",
        "print(diagonal_elements)\n"
      ],
      "metadata": {
        "colab": {
          "base_uri": "https://localhost:8080/"
        },
        "id": "r_cEoMoEtxx5",
        "outputId": "2ad92f25-84a9-4be0-dbf7-b6dfda54e169"
      },
      "execution_count": 8,
      "outputs": [
        {
          "output_type": "stream",
          "name": "stdout",
          "text": [
            "5x5 Identity Matrix:\n",
            "[[1. 0. 0. 0. 0.]\n",
            " [0. 1. 0. 0. 0.]\n",
            " [0. 0. 1. 0. 0.]\n",
            " [0. 0. 0. 1. 0.]\n",
            " [0. 0. 0. 0. 1.]]\n",
            "\n",
            "Diagonal Elements of the Identity Matrix:\n",
            "[1. 1. 1. 1. 1.]\n"
          ]
        }
      ]
    },
    {
      "cell_type": "markdown",
      "source": [
        "## Question 9\n",
        "Generate a NumPy array of 100 random integers between 0 and 1000. Find and display all prime numbers in this array.\n"
      ],
      "metadata": {
        "id": "lMtHisz_t0pR"
      }
    },
    {
      "cell_type": "code",
      "source": [
        "import numpy as np\n",
        "\n",
        "# Step 1: Generate a NumPy array of 100 random integers between 0 and 1000\n",
        "random_array = np.random.randint(0, 1001, size=100)\n",
        "print(\"Random Array of 100 Integers:\")\n",
        "print(random_array)\n",
        "\n",
        "# Step 2: Define a function to check if a number is prime\n",
        "def is_prime(num):\n",
        "    if num < 2:\n",
        "        return False\n",
        "    for i in range(2, int(num ** 0.5) + 1):\n",
        "        if num % i == 0:\n",
        "            return False\n",
        "    return True\n",
        "\n",
        "# Step 3: Find and display all prime numbers in the array\n",
        "prime_numbers = [num for num in random_array if is_prime(num)]\n",
        "print(\"\\nPrime Numbers in the Array:\")\n",
        "print(prime_numbers)\n"
      ],
      "metadata": {
        "colab": {
          "base_uri": "https://localhost:8080/"
        },
        "id": "bLhuKN3Qt6uh",
        "outputId": "5250df5a-7d36-404e-89cf-a3308911f08c"
      },
      "execution_count": 9,
      "outputs": [
        {
          "output_type": "stream",
          "name": "stdout",
          "text": [
            "Random Array of 100 Integers:\n",
            "[793 461 212 105 808 234  40 797  22 115 338 966 164 711  78 737 741 921\n",
            "  65 538 818 883 643 962 267 741 897 187 412 224 615 543 782 691 154 866\n",
            " 968 532 644  59  63 746 532 206 203 884 936 339 178  99 328 989  68 738\n",
            " 881 733 469 551 779 834 812 761 143 175 454 174 294 211 771 396  39 891\n",
            " 202 210 686  29  43 737 914 711 965 903 617 981 315 374 462 108 749 504\n",
            " 352 566 118 271 768 321 117 379 122 264]\n",
            "\n",
            "Prime Numbers in the Array:\n",
            "[461, 797, 883, 643, 691, 59, 881, 733, 761, 211, 29, 43, 617, 271, 379]\n"
          ]
        }
      ]
    },
    {
      "cell_type": "markdown",
      "source": [
        "## Question 10\n",
        "Create a NumPy array representing daily temperatures for a month. Calculate and display the weekly averages.\n"
      ],
      "metadata": {
        "id": "zb_uBy73uAe8"
      }
    },
    {
      "cell_type": "code",
      "source": [
        "import numpy as np\n",
        "\n",
        "# Step 1: Create a NumPy array representing daily temperatures for a month (30 days)\n",
        "daily_temperatures = np.random.uniform(20, 35, size=30)  # Temperatures between 20 and 35 degrees Celsius\n",
        "print(\"Daily Temperatures for the Month:\")\n",
        "print(daily_temperatures)\n",
        "\n",
        "# Step 2: Reshape the array into 5 weeks (rows) with 6 days (columns)\n",
        "weekly_temperatures = daily_temperatures.reshape(5, 6)\n",
        "print(\"\\nWeekly Temperatures (5 weeks x 6 days):\")\n",
        "print(weekly_temperatures)\n",
        "\n",
        "# Step 3: Calculate and display the weekly averages\n",
        "weekly_averages = weekly_temperatures.mean(axis=1)\n",
        "print(\"\\nWeekly Averages:\")\n",
        "print(weekly_averages)\n"
      ],
      "metadata": {
        "colab": {
          "base_uri": "https://localhost:8080/"
        },
        "id": "92MOTdQpuGYB",
        "outputId": "c349b475-9908-4dd5-bc3b-1eaea8d86919"
      },
      "execution_count": 12,
      "outputs": [
        {
          "output_type": "stream",
          "name": "stdout",
          "text": [
            "Daily Temperatures for the Month:\n",
            "[34.37101716 34.01200445 28.06498401 20.00737245 23.40160043 29.07394327\n",
            " 32.0477876  23.29064304 34.71807204 21.45204964 32.06075921 21.26121902\n",
            " 24.30416951 32.68031817 21.99228658 34.35131119 20.93648727 29.50147245\n",
            " 31.34046163 20.8274495  30.46689267 32.50684962 29.8979223  21.50652953\n",
            " 22.06896596 20.65520409 28.21713936 27.35449039 30.4861439  29.58409996]\n",
            "\n",
            "Weekly Temperatures (5 weeks x 6 days):\n",
            "[[34.37101716 34.01200445 28.06498401 20.00737245 23.40160043 29.07394327]\n",
            " [32.0477876  23.29064304 34.71807204 21.45204964 32.06075921 21.26121902]\n",
            " [24.30416951 32.68031817 21.99228658 34.35131119 20.93648727 29.50147245]\n",
            " [31.34046163 20.8274495  30.46689267 32.50684962 29.8979223  21.50652953]\n",
            " [22.06896596 20.65520409 28.21713936 27.35449039 30.4861439  29.58409996]]\n",
            "\n",
            "Weekly Averages:\n",
            "[28.15515363 27.47175509 27.29434086 27.75768421 26.39434061]\n"
          ]
        }
      ]
    }
  ]
}